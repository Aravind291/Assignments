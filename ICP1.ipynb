{
  "nbformat": 4,
  "nbformat_minor": 0,
  "metadata": {
    "colab": {
      "provenance": []
    },
    "kernelspec": {
      "name": "python3",
      "display_name": "Python 3"
    },
    "language_info": {
      "name": "python"
    }
  },
  "cells": [
    {
      "cell_type": "code",
      "execution_count": null,
      "metadata": {
        "id": "EUOAq26eAGRi"
      },
      "outputs": [],
      "source": []
    },
    {
      "cell_type": "markdown",
      "source": [],
      "metadata": {
        "id": "kyXn2D_9Aaf6"
      }
    },
    {
      "cell_type": "code",
      "source": [
        "def fullname(first_name, last_name):\n",
        "\n",
        "    return first_name + \" \" + last_name\n",
        "\n",
        "\n",
        "first_name = input(\"Enter your first name: \")\n",
        "last_name = input(\"Enter your last name: \")\n",
        "\n",
        "\n",
        "full_name = fullname(first_name, last_name)\n",
        "\n",
        "\n",
        "print(\"Your full name is:\", full_name)\n"
      ],
      "metadata": {
        "colab": {
          "base_uri": "https://localhost:8080/"
        },
        "id": "j7nDMBdJC3j7",
        "outputId": "1eef08ae-c9c4-4358-d377-d3fb48b6bdc6"
      },
      "execution_count": 3,
      "outputs": [
        {
          "output_type": "stream",
          "name": "stdout",
          "text": [
            "Enter your first name: Jagannath\n",
            "Enter your last name: Aravind\n",
            "Your full name is: Jagannath Aravind\n"
          ]
        }
      ]
    },
    {
      "cell_type": "markdown",
      "source": [],
      "metadata": {
        "id": "j6kYOccEDt83"
      }
    },
    {
      "cell_type": "markdown",
      "source": [
        "Question1 :\n",
        "\n",
        "Define the function \"fullname\"\n",
        "\n",
        "Combine the first and last names with a space in between\n",
        "\n",
        "Get the first and last name from the user\n",
        "\n",
        "Call the fullname function\n",
        "\n",
        "Print the result"
      ],
      "metadata": {
        "id": "EjuyV-3dEEhS"
      }
    },
    {
      "cell_type": "markdown",
      "source": [],
      "metadata": {
        "id": "Sr8En6MzGFd0"
      }
    },
    {
      "cell_type": "code",
      "source": [
        "def string_alternative(full_name):\n",
        "    return full_name[::2]\n",
        "\n",
        "full_name = \"Jagannath  Aravind\"\n",
        "result = string_alternative(full_name)\n",
        "print (\"Every other character: \", result)\n"
      ],
      "metadata": {
        "colab": {
          "base_uri": "https://localhost:8080/"
        },
        "id": "oy2ptWXAGPDF",
        "outputId": "c303640a-34ad-4263-e567-7dad901f71d9"
      },
      "execution_count": 12,
      "outputs": [
        {
          "output_type": "stream",
          "name": "stdout",
          "text": [
            "Every other character:  Jgnah rvn\n"
          ]
        }
      ]
    },
    {
      "cell_type": "markdown",
      "source": [
        "Question 1.1:\n",
        "Return characters from full_name string using the slice notation\n",
        "\n",
        "Provide the full name\n",
        "\n",
        "Get the result\n",
        "\n",
        "Print the result\n"
      ],
      "metadata": {
        "id": "o5HfcqwjG5li"
      }
    },
    {
      "cell_type": "markdown",
      "source": [],
      "metadata": {
        "id": "gwA2QUnSIJwC"
      }
    },
    {
      "cell_type": "code",
      "source": [
        "def count_words_in_file(input_file, output_file):\n",
        "    try:\n",
        "\n",
        "        with open(input_file, 'r') as infile:\n",
        "            lines = infile.readlines()\n",
        "\n",
        "        with open(output_file, 'w') as outfile:\n",
        "            for i, line in enumerate(lines, 1):\n",
        "                word_count = len(line.split())\n",
        "                print(f\"Line {i}: {word_count} words\")\n",
        "                outfile.write(f\"Line {i}: {word_count} words\\n\")\n",
        "\n",
        "        print(f\"Word counts have been successfully written to {output_file}.\")\n",
        "\n",
        "    except FileNotFoundError:\n",
        "        print(f\"Error: The file {input_file} was not found.\")\n",
        "    except Exception as e:\n",
        "        print(f\"An error occurred: {e}\")\n",
        "\n",
        "input_file = 'Input.txt'\n",
        "output_file = 'output.txt'\n",
        "\n",
        "count_words_in_file(input_file, output_file)\n"
      ],
      "metadata": {
        "colab": {
          "base_uri": "https://localhost:8080/"
        },
        "id": "J8Ic1gBFNEso",
        "outputId": "123b5cfc-5dc4-4d0c-a81c-17575a83df72"
      },
      "execution_count": 2,
      "outputs": [
        {
          "output_type": "stream",
          "name": "stdout",
          "text": [
            "Word counts have been successfully written to output.txt.\n"
          ]
        }
      ]
    },
    {
      "cell_type": "markdown",
      "source": [
        "\"count_words_in_file\" function is used to the number of words in a text file, with the parameters \"input_file, output_file\"\n",
        "\n",
        "The function is put in \"try - except\" block to handle errors\n",
        "\n",
        "Input file tries to open in read mode 'r'\n",
        "\n",
        "Output file is opened in write mode 'w'\n",
        "\n",
        "For loop is used to iterate over each line in 'lines' list\n",
        "\n",
        "'split' is used to split the line in the function and counts the number of words using 'len()'\n",
        "\n",
        "The line number and the word count is posted and the same is written in the output file\n",
        "\n"
      ],
      "metadata": {
        "id": "P8hTjGdTtmOr"
      }
    },
    {
      "cell_type": "markdown",
      "source": [],
      "metadata": {
        "id": "vWqQ0l0ItGk2"
      }
    },
    {
      "cell_type": "code",
      "source": [
        "\n",
        "heights_in_inches = []\n",
        "\n",
        "\n",
        "while True:\n",
        "    height = input(\"Enter height in inches (or type 'done' to finish): \")\n",
        "    if height.lower() == 'done':\n",
        "        break\n",
        "    try:\n",
        "        heights_in_inches.append(float(height))\n",
        "    except ValueError:\n",
        "        print(\"Please enter a valid number.\")\n",
        "\n",
        "\n",
        "heights_in_cm = []\n",
        "\n",
        "\n",
        "for height in heights_in_inches:\n",
        "    heights_in_cm.append(height * 2.54)\n",
        "\n",
        "\n",
        "print(\"Heights in centimeters:\", heights_in_cm)\n"
      ],
      "metadata": {
        "colab": {
          "base_uri": "https://localhost:8080/"
        },
        "id": "FJPV7NPVOvqD",
        "outputId": "4bbfa01c-2bbb-4836-fdb7-8f7d4fa34dd3"
      },
      "execution_count": 3,
      "outputs": [
        {
          "output_type": "stream",
          "name": "stdout",
          "text": [
            "Enter height in inches (or type 'done' to finish): 22\n",
            "Enter height in inches (or type 'done' to finish): done\n",
            "Heights in centimeters: [55.88]\n"
          ]
        }
      ]
    },
    {
      "cell_type": "markdown",
      "source": [
        "Empty list is initialized to store heights in inches.\n",
        "User input is taken for heights.\n",
        "function is kept in try-except block to handle errors.\n",
        "Empty list is initiazed to store heights in centimeters.\n",
        "formula is given to convert inches to centimeters\n",
        "output is given in centimeters"
      ],
      "metadata": {
        "id": "6c2QML3lwT-e"
      }
    },
    {
      "cell_type": "markdown",
      "source": [],
      "metadata": {
        "id": "5ROsIDDAsu4L"
      }
    },
    {
      "cell_type": "code",
      "source": [
        "\n",
        "heights_in_inches = []\n",
        "\n",
        "while True:\n",
        "    height = input(\"Enter height in inches (or type 'done' to finish): \")\n",
        "    if height.lower() == 'done':\n",
        "        break\n",
        "    try:\n",
        "        heights_in_inches.append(float(height))\n",
        "    except ValueError:\n",
        "        print(\"Please enter a valid number.\")\n",
        "\n",
        "\n",
        "heights_in_cm = [height * 2.54 for height in heights_in_inches]\n",
        "\n",
        "\n",
        "print(\"Heights in centimeters:\", heights_in_cm)\n"
      ],
      "metadata": {
        "colab": {
          "base_uri": "https://localhost:8080/"
        },
        "id": "MfoLV2rBPT8j",
        "outputId": "ffdf7193-9591-400d-fb50-6e6cd26589b5"
      },
      "execution_count": 4,
      "outputs": [
        {
          "output_type": "stream",
          "name": "stdout",
          "text": [
            "Enter height in inches (or type 'done' to finish): 222\n",
            "Enter height in inches (or type 'done' to finish): done\n",
            "Heights in centimeters: [563.88]\n"
          ]
        }
      ]
    },
    {
      "cell_type": "markdown",
      "source": [
        "User input is taken for heights and stored in list.\n",
        "function is kept in try-except block to handle errors\n",
        "height is converted from inches to centimeters using list comprehension\n",
        "output of the list is shown in centimeters"
      ],
      "metadata": {
        "id": "gaFxuDv6w3vK"
      }
    },
    {
      "cell_type": "markdown",
      "source": [],
      "metadata": {
        "id": "VgNx0VoVOETx"
      }
    }
  ]
}