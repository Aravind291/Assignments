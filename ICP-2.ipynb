{
  "nbformat": 4,
  "nbformat_minor": 0,
  "metadata": {
    "colab": {
      "provenance": []
    },
    "kernelspec": {
      "name": "python3",
      "display_name": "Python 3"
    },
    "language_info": {
      "name": "python"
    }
  },
  "cells": [
    {
      "cell_type": "code",
      "execution_count": null,
      "metadata": {
        "colab": {
          "base_uri": "https://localhost:8080/"
        },
        "id": "l_IPjDoXFY9F",
        "outputId": "db350299-baf5-4686-adab-26d7d635cffe"
      },
      "outputs": [
        {
          "output_type": "stream",
          "name": "stdout",
          "text": [
            "Employee Name: Jagannath Ganti, Family: Ganti, Salary: 500000, Department: IT\n",
            "Employee Name: Arun Sai, Family: Sai, Salary: 600000, Department: Health\n",
            "Employee Name: Santosh Mallela, Family: Mallela, Salary: 700000, Department: Engineering\n",
            "Employee Name: Surya Vamsi, Family: Vamsi, Salary: 800000, Department: Marketing\n",
            "Total Employees: 4\n",
            "Average Salary: 650000.0\n"
          ]
        }
      ],
      "source": [
        "class Employee:\n",
        "    # Class variable to count the number of employees\n",
        "    employee_count = 0\n",
        "    total_salary = 0\n",
        "\n",
        "    def __init__(self, name, family, salary, department):\n",
        "        # Instance variables\n",
        "        self.name = name\n",
        "        self.family = family\n",
        "        self.salary = salary\n",
        "        self.department = department\n",
        "\n",
        "        # Increment the employee count and add the salary to total salary\n",
        "        Employee.employee_count += 1\n",
        "        Employee.total_salary += salary\n",
        "\n",
        "    @classmethod\n",
        "    def average_salary(cls):\n",
        "        if cls.employee_count == 0:\n",
        "            return 0\n",
        "        return cls.total_salary / cls.employee_count\n",
        "\n",
        "    def __str__(self):\n",
        "        return f\"Employee Name: {self.name}, Family: {self.family}, Salary: {self.salary}, Department: {self.department}\"\n",
        "\n",
        "# FulltimeEmployee class inheriting from Employee class\n",
        "class FulltimeEmployee(Employee):\n",
        "    def __init__(self, name, family, salary, department):\n",
        "        super().__init__(name, family, salary, department)\n",
        "\n",
        "# Creating instances of Employee class\n",
        "employee1 = Employee(\"Jagannath Ganti\", \"Ganti\", 500000, \"IT\")\n",
        "employee2 = Employee(\"Arun Sai\", \"Sai\", 600000, \"Health\")\n",
        "\n",
        "# Creating instances of FulltimeEmployee class\n",
        "fulltime_employee1 = FulltimeEmployee(\"Santosh Mallela\", \"Mallela\", 700000, \"Engineering\")\n",
        "fulltime_employee2 = FulltimeEmployee(\"Surya Vamsi\", \"Vamsi\", 800000, \"Marketing\")\n",
        "\n",
        "# Printing the employee details\n",
        "print(employee1)\n",
        "print(employee2)\n",
        "print(fulltime_employee1)\n",
        "print(fulltime_employee2)\n",
        "\n",
        "# Printing the total number of employees and the average salary\n",
        "print(f\"Total Employees: {Employee.employee_count}\")\n",
        "print(f\"Average Salary: {Employee.average_salary()}\")\n"
      ]
    },
    {
      "cell_type": "markdown",
      "source": [
        "Created a class and two class variables \" Employee\" , \" employee_count\" and \"total_salary\" respectively.\n",
        "\n",
        "Used \"init\" method to initiate \" name\", \"family\", \"salary\", \"department\".\n",
        "\n",
        "\"average_salary\" is used to calculate the average of the employee salaries.\n",
        "\n",
        "The \"FulltimeEmployee\" is inherited from \"Employee\" class.\n",
        "\n",
        "Employee and FulltimeEmployee instances are created.\n",
        "\n",
        "Employee details are printed\n",
        "\n",
        "Average salary of the total number of employees are printed."
      ],
      "metadata": {
        "id": "08xLSGhLIFx7"
      }
    },
    {
      "cell_type": "code",
      "source": [
        "import numpy as np\n",
        "\n",
        "# Create a random vector of size 20 with floats in the range 10-20\n",
        "random_vector = np.random.uniform(10, 20, 20)\n",
        "\n",
        "# Reshape the array to 4 by 5\n",
        "reshaped_array = random_vector.reshape(4, 5)\n",
        "\n",
        "# Get the indices of the maximum values in each row\n",
        "max_indices = np.argmax(reshaped_array, axis=1)\n",
        "\n",
        "# Create a copy of the reshaped array to not modify the original array\n",
        "modified_array = reshaped_array.copy()\n",
        "\n",
        "# Replace the max values with 0 without using for loop\n",
        "modified_array[np.arange(reshaped_array.shape[0]), max_indices] = 0\n",
        "\n",
        "# Output the results\n",
        "print(\"Original reshaped array:\\n\", reshaped_array)\n",
        "print(\"\\nModified array with max in each row replaced by 0:\\n\", modified_array)\n"
      ],
      "metadata": {
        "colab": {
          "base_uri": "https://localhost:8080/"
        },
        "id": "DmE5F0jEGsbB",
        "outputId": "b936e353-0000-4b81-f196-8bdd5b707eb5"
      },
      "execution_count": null,
      "outputs": [
        {
          "output_type": "stream",
          "name": "stdout",
          "text": [
            "Original reshaped array:\n",
            " [[16.31988127 17.40286352 11.68819102 10.60518971 12.69248647]\n",
            " [16.43779071 18.72524093 11.01347313 10.20938746 18.64517639]\n",
            " [19.27794408 14.99713529 16.65628418 16.19611845 15.04978499]\n",
            " [13.65072676 14.59529707 15.53371821 11.03465591 15.61656396]]\n",
            "\n",
            "Modified array with max in each row replaced by 0:\n",
            " [[16.31988127  0.         11.68819102 10.60518971 12.69248647]\n",
            " [16.43779071  0.         11.01347313 10.20938746 18.64517639]\n",
            " [ 0.         14.99713529 16.65628418 16.19611845 15.04978499]\n",
            " [13.65072676 14.59529707 15.53371821 11.03465591  0.        ]]\n"
          ]
        }
      ]
    },
    {
      "cell_type": "markdown",
      "source": [
        "Used np.random.unfiorm(10,20,20) to create a random vector with floats in range 10-20.\n",
        "\n",
        "Used random_vector.reshape(4,5) to reshape the array to 4 * 5.\n",
        "\n",
        "np.argmax(reshaped_array, axis=1) was used to find the index of the maximum value  in each row.\n",
        "\n",
        "reshaped_array.copy() was used to create a copy of the modified array.\n",
        "\n",
        "modified_array[np.arange(reshaped_array.shape[0]), max_indices] = 0 was used to create an array [0,1,2,3] to represent the row indices.\n",
        "\n",
        "modified_array[np.arange(reshaped_array.shape[0]), max_indices] = 0 was used to replace maximum values in each row with 0.\n",
        "\n",
        "\n"
      ],
      "metadata": {
        "id": "cOBV1ohgLRTy"
      }
    }
  ]
}